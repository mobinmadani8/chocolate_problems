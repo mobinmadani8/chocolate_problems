{
 "cells": [
  {
   "cell_type": "markdown",
   "metadata": {},
   "source": [
    "<h1 align=center style=\"line-height:200%;font-family:vazir;color:#0099cc\">\n",
    "<font face=\"vazir\" color=\"#0099cc\">\n",
    "شکلات‌های خوب‌تر\n",
    "</font>\n",
    "</h1>\n"
   ]
  },
  {
   "cell_type": "markdown",
   "metadata": {
    "id": "IoGqY4BtZ4If"
   },
   "source": [
    "<p dir=rtl style=\"direction: rtl;text-align: right;line-height:200%;font-family:vazir;font-size:medium\">\n",
    "<font face=\"vazir\" size=3>\n",
    "ویدا بعد از امتحان چند شکلات متوجه شد که به نظر او مزه‌ی شکلات‌های با امتیاز بالا فرق چندانی با امتیاز‌های پایین‌تر ندارد ولی با این وجود می‌تواند آن‌ها را با قیمت بسیار بالاتری بفروشد به همین دلیل از شما خواست تا شرکت‌های برتر شکلات را برای او پیدا کنید تا بتواند آن‌ها را جدا کرده و بفروشد.\n",
    "در این قسمت مراحل انجام این کار را با هم پیش می‌بریم.\n",
    "\n",
    "</font>\n",
    "</p>\n"
   ]
  },
  {
   "cell_type": "code",
   "execution_count": 203,
   "metadata": {
    "colab": {
     "base_uri": "https://localhost:8080/",
     "height": 223
    },
    "executionInfo": {
     "elapsed": 532,
     "status": "ok",
     "timestamp": 1627498882795,
     "user": {
      "displayName": "Parto Shahroodi",
      "photoUrl": "https://lh3.googleusercontent.com/a-/AOh14GgVRnuIKtxzeAYtLGbbb7NnFc-HXqxuTOJ6OMw7uw=s64",
      "userId": "08853559073941204272"
     },
     "user_tz": -270
    },
    "id": "5zNJ61fR4cfU",
    "outputId": "37214551-b638-45d6-be7c-2af2fe1372f0"
   },
   "outputs": [
    {
     "data": {
      "text/html": [
       "<div>\n",
       "<style scoped>\n",
       "    .dataframe tbody tr th:only-of-type {\n",
       "        vertical-align: middle;\n",
       "    }\n",
       "\n",
       "    .dataframe tbody tr th {\n",
       "        vertical-align: top;\n",
       "    }\n",
       "\n",
       "    .dataframe thead th {\n",
       "        text-align: right;\n",
       "    }\n",
       "</style>\n",
       "<table border=\"1\" class=\"dataframe\">\n",
       "  <thead>\n",
       "    <tr style=\"text-align: right;\">\n",
       "      <th></th>\n",
       "      <th>Company</th>\n",
       "      <th>Specific Bean Origin</th>\n",
       "      <th>Review Date</th>\n",
       "      <th>Cocoa Percent</th>\n",
       "      <th>Company Location</th>\n",
       "      <th>Rating</th>\n",
       "      <th>Bean Type</th>\n",
       "      <th>Broad Bean Origin</th>\n",
       "      <th>price(100g)</th>\n",
       "    </tr>\n",
       "  </thead>\n",
       "  <tbody>\n",
       "    <tr>\n",
       "      <th>0</th>\n",
       "      <td>A. Morin</td>\n",
       "      <td>Agua Grande</td>\n",
       "      <td>2016</td>\n",
       "      <td>63.0</td>\n",
       "      <td>France</td>\n",
       "      <td>75.0</td>\n",
       "      <td>Blend</td>\n",
       "      <td>Sao Tome</td>\n",
       "      <td>118125.0</td>\n",
       "    </tr>\n",
       "    <tr>\n",
       "      <th>1</th>\n",
       "      <td>A. Morin</td>\n",
       "      <td>Kpime</td>\n",
       "      <td>2015</td>\n",
       "      <td>70.0</td>\n",
       "      <td>France</td>\n",
       "      <td>55.0</td>\n",
       "      <td>Blend</td>\n",
       "      <td>Togo</td>\n",
       "      <td>96250.0</td>\n",
       "    </tr>\n",
       "    <tr>\n",
       "      <th>2</th>\n",
       "      <td>A. Morin</td>\n",
       "      <td>Atsane</td>\n",
       "      <td>2015</td>\n",
       "      <td>70.0</td>\n",
       "      <td>France</td>\n",
       "      <td>60.0</td>\n",
       "      <td>Blend</td>\n",
       "      <td>Togo</td>\n",
       "      <td>105000.0</td>\n",
       "    </tr>\n",
       "    <tr>\n",
       "      <th>3</th>\n",
       "      <td>A. Morin</td>\n",
       "      <td>Akata</td>\n",
       "      <td>2015</td>\n",
       "      <td>70.0</td>\n",
       "      <td>France</td>\n",
       "      <td>70.0</td>\n",
       "      <td>Blend</td>\n",
       "      <td>Togo</td>\n",
       "      <td>122500.0</td>\n",
       "    </tr>\n",
       "    <tr>\n",
       "      <th>4</th>\n",
       "      <td>A. Morin</td>\n",
       "      <td>Quilla</td>\n",
       "      <td>2015</td>\n",
       "      <td>70.0</td>\n",
       "      <td>France</td>\n",
       "      <td>70.0</td>\n",
       "      <td>Blend</td>\n",
       "      <td>Peru</td>\n",
       "      <td>122500.0</td>\n",
       "    </tr>\n",
       "  </tbody>\n",
       "</table>\n",
       "</div>"
      ],
      "text/plain": [
       "    Company Specific Bean Origin  Review Date  Cocoa Percent Company Location  \\\n",
       "0  A. Morin          Agua Grande         2016           63.0           France   \n",
       "1  A. Morin                Kpime         2015           70.0           France   \n",
       "2  A. Morin               Atsane         2015           70.0           France   \n",
       "3  A. Morin                Akata         2015           70.0           France   \n",
       "4  A. Morin               Quilla         2015           70.0           France   \n",
       "\n",
       "   Rating Bean Type Broad Bean Origin  price(100g)  \n",
       "0    75.0     Blend          Sao Tome     118125.0  \n",
       "1    55.0     Blend              Togo      96250.0  \n",
       "2    60.0     Blend              Togo     105000.0  \n",
       "3    70.0     Blend              Togo     122500.0  \n",
       "4    70.0     Blend              Peru     122500.0  "
      ]
     },
     "execution_count": 203,
     "metadata": {},
     "output_type": "execute_result"
    }
   ],
   "source": [
    "import numpy as np\n",
    "import pandas as pd\n",
    "\n",
    "df = pd.read_csv('chocolate_price.csv')\n",
    "df.head()"
   ]
  },
  {
   "cell_type": "markdown",
   "metadata": {
    "id": "4Dzvaz_EbL4W"
   },
   "source": [
    "<h2 align=right style=\"line-height:200%;font-family:vazir;color:#0099cc\">\n",
    "<font face=\"vazir\" color=\"#0099cc\">\n",
    "قسمت اول\n",
    "</font>\n",
    "</h2>\n",
    "<p dir=rtl style=\"direction: rtl;text-align: right;line-height:200%;font-family:vazir;font-size:medium\">\n",
    "<font face=\"vazir\" size=3>\n",
    "ابتدا، به ازای هر شرکت شکلات سازی، میانگین امتیاز شکلات‌ها را برای هر سال محاسبه کنید و مانند جدول زیر (اما برای تمامی سال‌ها) مقدار امتیاز متوسط هر شرکت در سال را ذخیره کنید.\n",
    "<br/>\n",
    "راهنمایی: بعد از استفاده از دستور <code>groupby</code> و محاسبه‌ی میانگین از دستور <code>unstack</code> استفاده کنید.\n",
    "\n",
    "</font>\n",
    "</p>\n",
    "\n",
    "\n",
    "<table dir=ltr align=center>\n",
    "\n",
    "\n",
    "<tr>\n",
    "<th>  </th>\n",
    "<th>2014</th>\n",
    "<th>2015</th>\n",
    "<th>2016</th>\n",
    "<th>2017</th>\n",
    "\n",
    "</tr>\n",
    "\n",
    "<tr>\n",
    "<td>company 1</td>\n",
    "<td>70.0</td>\n",
    "<td>63.75</td>\n",
    "<td>75</td>\n",
    "<td>NaN</td>\n",
    "</tr>\n",
    "\n",
    "<tr>\n",
    "<td>company 2</td>\n",
    "<td>NaN</td>\n",
    "<td>NaN</td>\n",
    "<td>NaN</td>\n",
    "<td>NaN</td>\n",
    "</tr>\n",
    "\n",
    "\n",
    "</table>\n"
   ]
  },
  {
   "cell_type": "code",
   "execution_count": 204,
   "metadata": {
    "colab": {
     "base_uri": "https://localhost:8080/",
     "height": 423
    },
    "executionInfo": {
     "elapsed": 594,
     "status": "ok",
     "timestamp": 1627498890111,
     "user": {
      "displayName": "Parto Shahroodi",
      "photoUrl": "https://lh3.googleusercontent.com/a-/AOh14GgVRnuIKtxzeAYtLGbbb7NnFc-HXqxuTOJ6OMw7uw=s64",
      "userId": "08853559073941204272"
     },
     "user_tz": -270
    },
    "id": "ZUhHGdTcGcUs",
    "outputId": "e94f7d1b-e5e9-4946-8cca-45ef6880283c"
   },
   "outputs": [
    {
     "data": {
      "text/html": [
       "<div>\n",
       "<style scoped>\n",
       "    .dataframe tbody tr th:only-of-type {\n",
       "        vertical-align: middle;\n",
       "    }\n",
       "\n",
       "    .dataframe tbody tr th {\n",
       "        vertical-align: top;\n",
       "    }\n",
       "\n",
       "    .dataframe thead th {\n",
       "        text-align: right;\n",
       "    }\n",
       "</style>\n",
       "<table border=\"1\" class=\"dataframe\">\n",
       "  <thead>\n",
       "    <tr style=\"text-align: right;\">\n",
       "      <th></th>\n",
       "      <th>2006</th>\n",
       "      <th>2007</th>\n",
       "      <th>2008</th>\n",
       "      <th>2009</th>\n",
       "      <th>2010</th>\n",
       "      <th>2011</th>\n",
       "      <th>2012</th>\n",
       "      <th>2013</th>\n",
       "      <th>2014</th>\n",
       "      <th>2015</th>\n",
       "      <th>2016</th>\n",
       "      <th>2017</th>\n",
       "    </tr>\n",
       "  </thead>\n",
       "  <tbody>\n",
       "    <tr>\n",
       "      <th>A. Morin</th>\n",
       "      <td>NaN</td>\n",
       "      <td>NaN</td>\n",
       "      <td>NaN</td>\n",
       "      <td>NaN</td>\n",
       "      <td>NaN</td>\n",
       "      <td>NaN</td>\n",
       "      <td>72.500000</td>\n",
       "      <td>66.363636</td>\n",
       "      <td>70.0</td>\n",
       "      <td>63.75</td>\n",
       "      <td>75.0</td>\n",
       "      <td>NaN</td>\n",
       "    </tr>\n",
       "    <tr>\n",
       "      <th>AMMA</th>\n",
       "      <td>NaN</td>\n",
       "      <td>NaN</td>\n",
       "      <td>NaN</td>\n",
       "      <td>NaN</td>\n",
       "      <td>77.5</td>\n",
       "      <td>NaN</td>\n",
       "      <td>NaN</td>\n",
       "      <td>NaN</td>\n",
       "      <td>NaN</td>\n",
       "      <td>NaN</td>\n",
       "      <td>NaN</td>\n",
       "      <td>NaN</td>\n",
       "    </tr>\n",
       "    <tr>\n",
       "      <th>Acalli</th>\n",
       "      <td>NaN</td>\n",
       "      <td>NaN</td>\n",
       "      <td>NaN</td>\n",
       "      <td>NaN</td>\n",
       "      <td>NaN</td>\n",
       "      <td>NaN</td>\n",
       "      <td>NaN</td>\n",
       "      <td>NaN</td>\n",
       "      <td>NaN</td>\n",
       "      <td>75.00</td>\n",
       "      <td>NaN</td>\n",
       "      <td>NaN</td>\n",
       "    </tr>\n",
       "    <tr>\n",
       "      <th>Adi</th>\n",
       "      <td>NaN</td>\n",
       "      <td>NaN</td>\n",
       "      <td>NaN</td>\n",
       "      <td>NaN</td>\n",
       "      <td>NaN</td>\n",
       "      <td>55.0</td>\n",
       "      <td>NaN</td>\n",
       "      <td>NaN</td>\n",
       "      <td>NaN</td>\n",
       "      <td>NaN</td>\n",
       "      <td>NaN</td>\n",
       "      <td>NaN</td>\n",
       "    </tr>\n",
       "    <tr>\n",
       "      <th>Aequare (Gianduja)</th>\n",
       "      <td>NaN</td>\n",
       "      <td>NaN</td>\n",
       "      <td>NaN</td>\n",
       "      <td>57.5</td>\n",
       "      <td>NaN</td>\n",
       "      <td>NaN</td>\n",
       "      <td>NaN</td>\n",
       "      <td>NaN</td>\n",
       "      <td>NaN</td>\n",
       "      <td>NaN</td>\n",
       "      <td>NaN</td>\n",
       "      <td>NaN</td>\n",
       "    </tr>\n",
       "    <tr>\n",
       "      <th>...</th>\n",
       "      <td>...</td>\n",
       "      <td>...</td>\n",
       "      <td>...</td>\n",
       "      <td>...</td>\n",
       "      <td>...</td>\n",
       "      <td>...</td>\n",
       "      <td>...</td>\n",
       "      <td>...</td>\n",
       "      <td>...</td>\n",
       "      <td>...</td>\n",
       "      <td>...</td>\n",
       "      <td>...</td>\n",
       "    </tr>\n",
       "    <tr>\n",
       "      <th>Zokoko</th>\n",
       "      <td>NaN</td>\n",
       "      <td>NaN</td>\n",
       "      <td>NaN</td>\n",
       "      <td>NaN</td>\n",
       "      <td>NaN</td>\n",
       "      <td>70.0</td>\n",
       "      <td>NaN</td>\n",
       "      <td>NaN</td>\n",
       "      <td>NaN</td>\n",
       "      <td>NaN</td>\n",
       "      <td>65.0</td>\n",
       "      <td>NaN</td>\n",
       "    </tr>\n",
       "    <tr>\n",
       "      <th>Zotter</th>\n",
       "      <td>NaN</td>\n",
       "      <td>NaN</td>\n",
       "      <td>NaN</td>\n",
       "      <td>NaN</td>\n",
       "      <td>60.0</td>\n",
       "      <td>67.5</td>\n",
       "      <td>69.285714</td>\n",
       "      <td>NaN</td>\n",
       "      <td>NaN</td>\n",
       "      <td>NaN</td>\n",
       "      <td>NaN</td>\n",
       "      <td>NaN</td>\n",
       "    </tr>\n",
       "    <tr>\n",
       "      <th>hello cocoa</th>\n",
       "      <td>NaN</td>\n",
       "      <td>NaN</td>\n",
       "      <td>NaN</td>\n",
       "      <td>NaN</td>\n",
       "      <td>NaN</td>\n",
       "      <td>NaN</td>\n",
       "      <td>NaN</td>\n",
       "      <td>NaN</td>\n",
       "      <td>NaN</td>\n",
       "      <td>55.00</td>\n",
       "      <td>NaN</td>\n",
       "      <td>NaN</td>\n",
       "    </tr>\n",
       "    <tr>\n",
       "      <th>hexx</th>\n",
       "      <td>NaN</td>\n",
       "      <td>NaN</td>\n",
       "      <td>NaN</td>\n",
       "      <td>NaN</td>\n",
       "      <td>NaN</td>\n",
       "      <td>NaN</td>\n",
       "      <td>NaN</td>\n",
       "      <td>NaN</td>\n",
       "      <td>NaN</td>\n",
       "      <td>60.00</td>\n",
       "      <td>NaN</td>\n",
       "      <td>NaN</td>\n",
       "    </tr>\n",
       "    <tr>\n",
       "      <th>twenty-four blackbirds</th>\n",
       "      <td>NaN</td>\n",
       "      <td>NaN</td>\n",
       "      <td>NaN</td>\n",
       "      <td>NaN</td>\n",
       "      <td>NaN</td>\n",
       "      <td>NaN</td>\n",
       "      <td>NaN</td>\n",
       "      <td>65.000000</td>\n",
       "      <td>NaN</td>\n",
       "      <td>NaN</td>\n",
       "      <td>NaN</td>\n",
       "      <td>NaN</td>\n",
       "    </tr>\n",
       "  </tbody>\n",
       "</table>\n",
       "<p>313 rows × 12 columns</p>\n",
       "</div>"
      ],
      "text/plain": [
       "                        2006  2007  2008  2009  2010  2011       2012  \\\n",
       "A. Morin                 NaN   NaN   NaN   NaN   NaN   NaN  72.500000   \n",
       "AMMA                     NaN   NaN   NaN   NaN  77.5   NaN        NaN   \n",
       "Acalli                   NaN   NaN   NaN   NaN   NaN   NaN        NaN   \n",
       "Adi                      NaN   NaN   NaN   NaN   NaN  55.0        NaN   \n",
       "Aequare (Gianduja)       NaN   NaN   NaN  57.5   NaN   NaN        NaN   \n",
       "...                      ...   ...   ...   ...   ...   ...        ...   \n",
       "Zokoko                   NaN   NaN   NaN   NaN   NaN  70.0        NaN   \n",
       "Zotter                   NaN   NaN   NaN   NaN  60.0  67.5  69.285714   \n",
       "hello cocoa              NaN   NaN   NaN   NaN   NaN   NaN        NaN   \n",
       "hexx                     NaN   NaN   NaN   NaN   NaN   NaN        NaN   \n",
       "twenty-four blackbirds   NaN   NaN   NaN   NaN   NaN   NaN        NaN   \n",
       "\n",
       "                             2013  2014   2015  2016  2017  \n",
       "A. Morin                66.363636  70.0  63.75  75.0   NaN  \n",
       "AMMA                          NaN   NaN    NaN   NaN   NaN  \n",
       "Acalli                        NaN   NaN  75.00   NaN   NaN  \n",
       "Adi                           NaN   NaN    NaN   NaN   NaN  \n",
       "Aequare (Gianduja)            NaN   NaN    NaN   NaN   NaN  \n",
       "...                           ...   ...    ...   ...   ...  \n",
       "Zokoko                        NaN   NaN    NaN  65.0   NaN  \n",
       "Zotter                        NaN   NaN    NaN   NaN   NaN  \n",
       "hello cocoa                   NaN   NaN  55.00   NaN   NaN  \n",
       "hexx                          NaN   NaN  60.00   NaN   NaN  \n",
       "twenty-four blackbirds  65.000000   NaN    NaN   NaN   NaN  \n",
       "\n",
       "[313 rows x 12 columns]"
      ]
     },
     "execution_count": 204,
     "metadata": {},
     "output_type": "execute_result"
    }
   ],
   "source": [
    "companies = df.groupby([\"Company\",\"Review Date\"])\n",
    "companies=companies[\"Rating\"].agg('mean').unstack()\n",
    "\n",
    "# خطوط زیر برای استانداردسازی شکل جدول اعمال می‌شوند. برای جواب نهایی آن‌ها تغییر ندهید.\n",
    "companies.columns.name=None\n",
    "companies.index.name=None\n",
    "companies\n"
   ]
  },
  {
   "cell_type": "markdown",
   "metadata": {
    "id": "pnlGnmVsaV0_"
   },
   "source": [
    "<h2 align=right style=\"line-height:200%;font-family:vazir;color:#0099cc\">\n",
    "<font face=\"vazir\" color=\"#0099cc\">\n",
    "قسمت دوم\n",
    "</font>\n",
    "</h2>\n",
    "<p dir=rtl style=\"direction: rtl;text-align: right;line-height:200%;font-family:vazir;font-size:medium\">\n",
    "<font face=\"vazir\" size=3>\n",
    "برای محاسبه‌ی بهترین شرکت‌ها، نیازی به استفاده از مقدار همه‌ی سال‌ها نداریم بنابراین در متغیر <code>mean_ratings</code> میانگین ستون‌های جدول <code>companies</code> از سال ۲۰۱۲ به بعد به ازای هر کمپانی را ذخیره کنید. \n",
    "سپس در متغیر <code>best_ratings</code>، ۱۰ شرکت برتر به همراه میانگین رتبه‌ی آن‌ها را ذخیره کنید.\n",
    "<br>\n",
    "  دقت کنید که در مواردی که امتیاز شرکت‌ها برابر است، شرکت‌ها را به ترتیب الفبا انتخاب کنید.\n",
    "</font>\n",
    "</p>\n"
   ]
  },
  {
   "cell_type": "code",
   "execution_count": 205,
   "metadata": {
    "colab": {
     "base_uri": "https://localhost:8080/"
    },
    "executionInfo": {
     "elapsed": 446,
     "status": "ok",
     "timestamp": 1627498961315,
     "user": {
      "displayName": "Parto Shahroodi",
      "photoUrl": "https://lh3.googleusercontent.com/a-/AOh14GgVRnuIKtxzeAYtLGbbb7NnFc-HXqxuTOJ6OMw7uw=s64",
      "userId": "08853559073941204272"
     },
     "user_tz": -270
    },
    "id": "fA-hFYchWhq8",
    "outputId": "39f233c9-037d-4982-9282-bac8e9270524"
   },
   "outputs": [
    {
     "data": {
      "text/plain": [
       "Patric                     80.000000\n",
       "Tobago Estate (Pralus)     80.000000\n",
       "Willie's Cacao             80.000000\n",
       "L.A. Burdick (Felchlin)    77.500000\n",
       "Matale                     77.500000\n",
       "Pacari                     77.500000\n",
       "Valrhona                   76.666667\n",
       "Acalli                     75.000000\n",
       "Amedei                     75.000000\n",
       "Askinosie                  75.000000\n",
       "Name: 0, dtype: float64"
      ]
     },
     "execution_count": 205,
     "metadata": {},
     "output_type": "execute_result"
    }
   ],
   "source": [
    "mean_ratings = companies.loc[:,2012:2017].mean(axis=1)\n",
    "best_ratings = mean_ratings.reset_index()\n",
    "best_ratings = best_ratings.sort_values(by= [0 , \"index\"] , ascending=[False , True])\n",
    "best_ratings.index = best_ratings[\"index\"]\n",
    "best_ratings.drop(\"index\" , axis=1, inplace= True)\n",
    "best_ratings = best_ratings.head(10)\n",
    "best_ratings.index.name=None\n",
    "best_ratings.squeeze()\n",
    "\n"
   ]
  },
  {
   "cell_type": "markdown",
   "metadata": {
    "id": "x-Z5ei7XaYzB"
   },
   "source": [
    "<h2 align=right style=\"line-height:200%;font-family:vazir;color:#0099cc\">\n",
    "<font face=\"vazir\" color=\"#0099cc\">\n",
    "قسمت سوم\n",
    "</font>\n",
    "</h2>\n",
    "<p dir=rtl style=\"direction: rtl;text-align: right;line-height:200%;font-family:vazir;font-size:medium\">\n",
    "<font face=\"vazir\" size=3>\n",
    "در متغیر <code>chocolates_to_sell</code> شکلات‌هایی که شرکتشان بین ۱۰ شرکت برتر است را پیدا و ذخیره کنید.\n",
    "<br>\n",
    "•   از مرتب بودن ایندکس‌ها مطمئن شوید.\n",
    "<br>\n",
    "•\tراهنمایی: برای بررسی وجود یک متغیر در یک لیست می‌توانید از تابع <code>isin</code> استفاده کنید.\n",
    "\n",
    "</font>\n",
    "</p>\n"
   ]
  },
  {
   "cell_type": "code",
   "execution_count": 206,
   "metadata": {
    "colab": {
     "base_uri": "https://localhost:8080/",
     "height": 1000
    },
    "executionInfo": {
     "elapsed": 383,
     "status": "ok",
     "timestamp": 1627461617410,
     "user": {
      "displayName": "Parto Shahroodi",
      "photoUrl": "https://lh3.googleusercontent.com/a-/AOh14GgVRnuIKtxzeAYtLGbbb7NnFc-HXqxuTOJ6OMw7uw=s64",
      "userId": "08853559073941204272"
     },
     "user_tz": -270
    },
    "id": "eBCbfxjd-Ps5",
    "outputId": "22c49c90-ca6c-407f-9eeb-7597dcc799ef"
   },
   "outputs": [],
   "source": [
    "chocolates_to_sell = df[df[\"Company\"].isin(best_ratings.index)].reset_index()\n"
   ]
  },
  {
   "cell_type": "markdown",
   "metadata": {
    "id": "WGVRfSTsa6lv"
   },
   "source": [
    "<h2 align=right style=\"line-height:200%;font-family:vazir;color:#0099cc\">\n",
    "<font face=\"vazir\" color=\"#0099cc\">\n",
    "قسمت چهارم\n",
    "</font>\n",
    "</h2>\n",
    "<p dir=rtl style=\"direction: rtl;text-align: right;line-height:200%;font-family:vazir;font-size:medium\">\n",
    "<font face=\"vazir\" size=3>\n",
    "در نهایت مجموع قیمت این شکلات‌ها را در متغیر <code>price</code> ذخیره کنید تا میزان درآمد ویدا از آن‌ها مشخص شود.\n",
    "</font>\n",
    "</p>"
   ]
  },
  {
   "cell_type": "code",
   "execution_count": 207,
   "metadata": {
    "colab": {
     "base_uri": "https://localhost:8080/"
    },
    "executionInfo": {
     "elapsed": 794,
     "status": "ok",
     "timestamp": 1627323016155,
     "user": {
      "displayName": "Parto Shahroodi",
      "photoUrl": "https://lh3.googleusercontent.com/a-/AOh14GgVRnuIKtxzeAYtLGbbb7NnFc-HXqxuTOJ6OMw7uw=s64",
      "userId": "08853559073941204272"
     },
     "user_tz": -270
    },
    "id": "WlUvsyfj_ijl",
    "outputId": "777be270-30d7-4d59-becd-c0bf27e5e97a"
   },
   "outputs": [],
   "source": [
    "priceSum = chocolates_to_sell[\"price(100g)\"].sum()"
   ]
  },
  {
   "cell_type": "markdown",
   "metadata": {
    "id": "bHYK4FH4bBU0"
   },
   "source": [
    "<h2 align=right style=\"line-height:200%;font-family:vazir;color:#0099cc\">\n",
    "<font face=\"vazir\" color=\"#0099cc\">\n",
    "<b>سلول جواب‌ساز</b>\n",
    "</font>\n",
    "</h2>\n"
   ]
  },
  {
   "cell_type": "code",
   "execution_count": 208,
   "metadata": {
    "id": "m3zsfIAcbDJa"
   },
   "outputs": [
    {
     "name": "stdout",
     "output_type": "stream",
     "text": [
      "File Paths:\n",
      "['answers.npz', 'project1_3.ipynb', 'chocolates_to_sell.csv', 'companies.csv', 'mean_ratings.csv', 'best_ratings.csv']\n"
     ]
    }
   ],
   "source": [
    "import zlib\n",
    "import zipfile\n",
    "\n",
    "\n",
    "def compress(file_names):\n",
    "    print(\"File Paths:\")\n",
    "    print(file_names)\n",
    "    compression = zipfile.ZIP_DEFLATED\n",
    "    with zipfile.ZipFile(\"result.zip\", mode=\"w\") as zf:\n",
    "        for file_name in file_names:\n",
    "            zf.write('./' + file_name, file_name, compress_type=compression)\n",
    "\n",
    "\n",
    "companies.to_csv('companies.csv',index = True)\n",
    "chocolates_to_sell.to_csv('chocolates_to_sell.csv',index = True)\n",
    "mean_ratings.to_csv(\"mean_ratings.csv\", index = True)\n",
    "best_ratings.to_csv(\"best_ratings.csv\", index = True)\n",
    "\n",
    "np.savez(\"answers.npz\" ,priceSum = priceSum)\n",
    "file_names = [\"answers.npz\", \"project1_3.ipynb\",\"chocolates_to_sell.csv\",\"companies.csv\",\"mean_ratings.csv\", \"best_ratings.csv\"]\n",
    "compress(file_names)"
   ]
  }
 ],
 "metadata": {
  "colab": {
   "authorship_tag": "ABX9TyPsom0lLlC0TBmB6Rp+DZQC",
   "collapsed_sections": [],
   "name": "گام سوم.ipynb",
   "provenance": []
  },
  "interpreter": {
   "hash": "243856ee5aa5cfcf7c7fc5e27ace1f0d0cf471c324fa5d741db742eb1bed0a33"
  },
  "kernelspec": {
   "display_name": "Python 3.7.4 64-bit",
   "name": "python3"
  },
  "language_info": {
   "codemirror_mode": {
    "name": "ipython",
    "version": 3
   },
   "file_extension": ".py",
   "mimetype": "text/x-python",
   "name": "python",
   "nbconvert_exporter": "python",
   "pygments_lexer": "ipython3",
   "version": "3.7.4"
  }
 },
 "nbformat": 4,
 "nbformat_minor": 4
}
